{
 "cells": [
  {
   "cell_type": "code",
   "execution_count": 119,
   "id": "2549fb5f-fc69-4512-b0e2-132d5660c1c0",
   "metadata": {},
   "outputs": [],
   "source": [
    "import numpy as np\n",
    "import pandas as pd \n",
    "import geopandas as gpd\n",
    "import matplotlib.pyplot as plt\n",
    "from census import Census\n",
    "from us import states\n",
    "from functools import reduce\n",
    "import statsmodels.api as sm\n",
    "from patsy import dmatrices\n",
    "from sklearn.linear_model import LinearRegression\n",
    "from scipy.optimize import curve_fit"
   ]
  },
  {
   "cell_type": "code",
   "execution_count": 65,
   "id": "1922398e-6d16-4ad4-8995-3ce48d8dc8f0",
   "metadata": {},
   "outputs": [],
   "source": [
    "c = Census('205e4ff6cd960a68fc9a37a90cb79af0cddb1849')"
   ]
  },
  {
   "cell_type": "code",
   "execution_count": null,
   "id": "e423eaa9-f74d-4567-b03a-406bab64395a",
   "metadata": {},
   "outputs": [],
   "source": []
  },
  {
   "cell_type": "code",
   "execution_count": 66,
   "id": "8f57824c-52e2-44e6-8b14-38591e0bfd3c",
   "metadata": {},
   "outputs": [],
   "source": [
    "# Pull Data from Census API\n",
    "hills_pop19= pd.DataFrame(c.acs5.state_county_blockgroup((\"NAME\",\"GEO_ID\", \"B01001_001E\"),\n",
    "                                          states.FL.fips, \"057\", Census.ALL, year=2019))\n",
    "hills_pop18= pd.DataFrame(c.acs5.state_county_blockgroup((\"NAME\",\"GEO_ID\", \"B01001_001E\"),\n",
    "                                          states.FL.fips, \"057\", Census.ALL, year=2018))\n",
    "hills_pop17= pd.DataFrame(c.acs5.state_county_blockgroup((\"NAME\",\"GEO_ID\", \"B01001_001E\"),\n",
    "                                          states.FL.fips, \"057\", Census.ALL, year=2017))\n",
    "hills_pop16= pd.DataFrame(c.acs5.state_county_blockgroup((\"NAME\",\"GEO_ID\", \"B01001_001E\"),\n",
    "                                          states.FL.fips, \"057\", Census.ALL, year=2016))\n",
    "hills_pop15= pd.DataFrame(c.acs5.state_county_blockgroup((\"NAME\",\"GEO_ID\", \"B01001_001E\"),\n",
    "                                          states.FL.fips, \"057\", Census.ALL, year=2015))\n",
    "hills_pop14= pd.DataFrame(c.acs5.state_county_blockgroup((\"NAME\",\"GEO_ID\", \"B01001_001E\"),\n",
    "                                          states.FL.fips, \"057\", Census.ALL, year=2014))\n",
    "hills_pop13= pd.DataFrame(c.acs5.state_county_blockgroup((\"NAME\",\"GEO_ID\", \"B01001_001E\"),\n",
    "                                          states.FL.fips, \"057\", Census.ALL, year=2013))"
   ]
  },
  {
   "cell_type": "code",
   "execution_count": 67,
   "id": "8c2f99ce-2241-4624-840d-d14880e2b190",
   "metadata": {},
   "outputs": [],
   "source": [
    "# hills_pop12= c.acs5.state_county_blockgroup((\"NAME\", \"B01001_001E\"),\n",
    "#                                           states.FL.fips, \"057\", Census.ALL, year=2012)\n",
    "# hills_pop11= c.acs5.state_county_blockgroup((\"NAME\", \"B01001_001E\"),\n",
    "#                                           states.FL.fips, \"057\", Census.ALL, year=2011)\n",
    "# hills_pop10= c.acs5.state_county_blockgroup((\"NAME\", \"B01001_001E\"),\n",
    "#                                           states.FL.fips, \"057\", Census.ALL, year=2010)\n",
    "# hills_pop09= c.acs5.state_county_blockgroup((\"NAME\", \"B01001_001E\"),\n",
    "#                                           states.FL.fips, \"057\", Census.ALL, year=2009)"
   ]
  },
  {
   "cell_type": "code",
   "execution_count": 68,
   "id": "bd097b7e-07a5-46f0-97c1-b120645a7dec",
   "metadata": {},
   "outputs": [],
   "source": [
    "# def get_pop(year):\n",
    "#     pop_data = (c.acs5.state_county_blockgroup((\"NAME\", \"B01001_001E\"),\n",
    "#                                           states.FL.fips, \"057\", Census.ALL, year=year))\n",
    "#     pop_df = pd.DataFrame(pop_data)\n",
    "#     return(pop_df)"
   ]
  },
  {
   "cell_type": "code",
   "execution_count": 69,
   "id": "b7fe0c23-7b15-49f4-9fa8-26cc595d9604",
   "metadata": {},
   "outputs": [],
   "source": [
    "#Merge all the dataframes together\n",
    "data_frames=[hills_pop19,hills_pop18,hills_pop17,hills_pop16,\n",
    "           hills_pop15,hills_pop14,hills_pop13]\n",
    "df_merged = reduce(lambda  left,right: pd.merge(left,right,on=['NAME',\"state\",\"county\",\n",
    "                                                               'tract','block group', \"GEO_ID\"],\n",
    "                                            how='outer'), data_frames)"
   ]
  },
  {
   "cell_type": "code",
   "execution_count": 70,
   "id": "8ebe0584-51b6-4204-9370-3097f1740158",
   "metadata": {},
   "outputs": [],
   "source": [
    "# yr_list = [2019,2018,2017,2016,2015,2014,2013]\n",
    "# name_list = []\n",
    "# for yr in yr_list:\n",
    "#     name_list.append(\"pop_df_{}\".format(str(yr)[-2:]))\n",
    "# for name, yr in zip(name_list, yr_list):\n",
    "#     name = get_pop(year)"
   ]
  },
  {
   "cell_type": "code",
   "execution_count": 72,
   "id": "e95c373e-bfdf-486c-ad64-2067ec12e37a",
   "metadata": {},
   "outputs": [],
   "source": [
    "#df_merged.columns\n",
    "# Rename colums to add suffix indicating year after population table\n",
    "df_merged.columns = ['NAME', 'GEO_ID', 'B01001_001E_19', 'state', 'county', 'tract', 'block group',\n",
    "       'B01001_001E_18', 'B01001_001E_17', 'B01001_001E_16', 'B01001_001E_15',\n",
    "       'B01001_001E_14', 'B01001_001E_13']\n"
   ]
  },
  {
   "cell_type": "code",
   "execution_count": 73,
   "id": "b65e6404-a193-4f59-830a-bd6784b0904e",
   "metadata": {},
   "outputs": [],
   "source": [
    "# Rearrange column order \n",
    "df_merged = df_merged[['NAME', \"GEO_ID\", 'state', 'county', 'tract', 'block group',\n",
    "                       'B01001_001E_13','B01001_001E_14', 'B01001_001E_15', \n",
    "                       'B01001_001E_16', 'B01001_001E_17', 'B01001_001E_18',\n",
    "                       'B01001_001E_19'\n",
    "                      ]]"
   ]
  },
  {
   "cell_type": "code",
   "execution_count": 74,
   "id": "e037dd83-3c68-4879-9579-21efe8a57ec3",
   "metadata": {},
   "outputs": [],
   "source": [
    "#Split GEO_ID to extract section that matches block group GEOID \n",
    "df_merged['GEOID'] = df_merged[\"GEO_ID\"].apply(lambda x: x.split(\"US\")[1])"
   ]
  },
  {
   "cell_type": "code",
   "execution_count": 75,
   "id": "657c779f-77a7-46b7-aa30-6f0bb1d29f79",
   "metadata": {},
   "outputs": [],
   "source": [
    "#Read in State of Florida blockgroup tiger shapefile from Census\n",
    "fl_bgs = gpd.read_file(\"/Users/jt/Documents/GIS/General/FL_Block_Groups/tl_2019_12_bg/tl_2019_12_bg.shp\")"
   ]
  },
  {
   "cell_type": "code",
   "execution_count": 76,
   "id": "62bae8b4-b0e7-4808-99c1-95c070202772",
   "metadata": {},
   "outputs": [],
   "source": [
    "#Merge blockgroup and populaiton dataframes dropping null values and resulting in data from \n",
    "#Hillsborough county only\n",
    "hills_bgs = fl_bgs.merge(df_merged,how=\"left\",on=\"GEOID\").dropna()"
   ]
  },
  {
   "cell_type": "code",
   "execution_count": 138,
   "id": "d7dea030-54ab-4ddf-b995-dc19776be581",
   "metadata": {},
   "outputs": [],
   "source": [
    "# Save hillsboroug county df\n",
    "#hills_bgs.to_excel('hillsborough_county_block_group_populaiton_2013-2019.xlsx')"
   ]
  },
  {
   "cell_type": "code",
   "execution_count": 78,
   "id": "50c9446c-7a99-4531-8def-77324334d3be",
   "metadata": {},
   "outputs": [],
   "source": [
    "hills_bgs.reset_index(drop=True,inplace=True)"
   ]
  },
  {
   "cell_type": "code",
   "execution_count": 79,
   "id": "85c39313-c5d4-466f-9b5a-f42e1714e77e",
   "metadata": {},
   "outputs": [],
   "source": [
    "# hills_bgs['Combined_Col'] = hills_bgs.iloc[:,-7:].apply(lambda x: \",\".join(x.astype(str)),\n",
    "#                                                         axis=1)\n",
    "# hills_bgs['Combined_Col']"
   ]
  },
  {
   "cell_type": "code",
   "execution_count": 80,
   "id": "46274737-9c47-468d-9ada-a05e15111e6c",
   "metadata": {},
   "outputs": [],
   "source": [
    "# hills_bgs[[\"B01001_001E_19\",\"B01001_001E_18\",\"B01001_001E_17\",\n",
    "#            \"B01001_001E_16\",\"B01001_001E_15\",\"B01001_001E_14\",\n",
    "#            \"B01001_001E_13\"]]"
   ]
  },
  {
   "cell_type": "code",
   "execution_count": 46,
   "id": "ab1e32a3-bf91-4f73-b133-0791f9386d87",
   "metadata": {},
   "outputs": [],
   "source": [
    "# Set index of hills df to GEOID and transpose just the populaiton data to get \n",
    "# blockgroup code as column header.\n",
    "hills_bgs.set_index(\"GEOID\",inplace=True)\n",
    "year_index = [[2013,2014,2015,2016,2017,2018,2019]]\n",
    "pop_data = hills_bgs.iloc[:,-7:].transpose()\n",
    "#Set new index as ACS year and reset index to make column (Could have been done in one step)\n",
    "pop_data.set_index(year_index, inplace=True)\n",
    "pop_data.reset_index(inplace=True)"
   ]
  },
  {
   "cell_type": "code",
   "execution_count": 50,
   "id": "7afdee19-e9cd-43ea-95c8-c0eeab95e4a5",
   "metadata": {},
   "outputs": [],
   "source": [
    "# Get get the colums make list and insert year to change \"index\" header to \"year\"\n",
    "cols = pop_data.columns\n",
    "col_list = list(cols[1:])\n",
    "col_list.insert(0,'year')\n",
    "pop_data.columns = [col_list]"
   ]
  },
  {
   "cell_type": "code",
   "execution_count": 112,
   "id": "02d9c24f-0e10-4eaa-bd26-3e57fbf3daad",
   "metadata": {
    "tags": []
   },
   "outputs": [],
   "source": [
    "# Testing regression method for analysis \n",
    "X = pop_data[\"year\"]\n",
    "y = pop_data.iloc[:,2]\n",
    "y = pd.DataFrame(y)"
   ]
  },
  {
   "cell_type": "code",
   "execution_count": 131,
   "id": "c90fa831-c8fe-4824-924b-2a2046845e19",
   "metadata": {},
   "outputs": [],
   "source": [
    "# Testing regression method for analysis \n",
    "reg = LinearRegression().fit(X,y)"
   ]
  },
  {
   "cell_type": "code",
   "execution_count": 133,
   "id": "c9b774b3-dc24-4bb6-8aa1-24e993c59e3e",
   "metadata": {},
   "outputs": [],
   "source": [
    "# Testing regression method for analysis \n",
    "\n",
    "\n",
    "X_pred = pd.DataFrame({'year':[2030,2040,2050,2060,2070,2080,2090,2100]})\n",
    "y_pred = reg.predict(X_pred)\n",
    "y_pred"
   ]
  }
 ],
 "metadata": {
  "kernelspec": {
   "display_name": "gis_projects",
   "language": "python",
   "name": "gis_projects"
  },
  "language_info": {
   "codemirror_mode": {
    "name": "ipython",
    "version": 3
   },
   "file_extension": ".py",
   "mimetype": "text/x-python",
   "name": "python",
   "nbconvert_exporter": "python",
   "pygments_lexer": "ipython3",
   "version": "3.7.6"
  }
 },
 "nbformat": 4,
 "nbformat_minor": 5
}
