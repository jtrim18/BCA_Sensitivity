{
 "cells": [
  {
   "cell_type": "code",
   "execution_count": 153,
   "id": "d1c5964c-77bf-4af6-aecc-2050c91e2c27",
   "metadata": {},
   "outputs": [],
   "source": [
    "import numpy as np\n",
    "import pandas as pd \n",
    "import geopandas as gpd\n",
    "import matplotlib.pyplot as plt\n",
    "from census import Census"
   ]
  },
  {
   "cell_type": "code",
   "execution_count": 154,
   "id": "04f81b1f-06b0-458a-91f4-73a3139d48a8",
   "metadata": {},
   "outputs": [],
   "source": [
    "c = Census(\"your_key_here\")"
   ]
  },
  {
   "cell_type": "code",
   "execution_count": 155,
   "id": "698eb9f9-385d-4c5c-89d9-ba5dbcf168c1",
   "metadata": {},
   "outputs": [],
   "source": [
    "pd.set_option('display.max_columns',50)"
   ]
  },
  {
   "cell_type": "code",
   "execution_count": 156,
   "id": "d6d2a6b3-a782-4c8b-bd17-584c64ed4072",
   "metadata": {},
   "outputs": [],
   "source": [
    "pop_df = pd.read_excel('./PopulaitonProjections.xlsx')"
   ]
  },
  {
   "cell_type": "code",
   "execution_count": 179,
   "id": "7201b66c-e9de-409b-a4da-e65d0f31b4d6",
   "metadata": {},
   "outputs": [],
   "source": [
    "#parcel_df = pd.read_excel(\"ParcelBlockGroup_Joined_7_18_2021.xlsx\")\n",
    "bg_df = pd.read_excel('./Data/7_11_2021_Exports/BlockGroupExport.xlsx')\n",
    "#build_df = pd.read_excel('./Data/7_11_2021_Exports/BuildingFootprintPoints.xlsx')"
   ]
  },
  {
   "cell_type": "code",
   "execution_count": null,
   "id": "55d670ff-cd63-4ae3-a5c8-76e4c083c44b",
   "metadata": {},
   "outputs": [],
   "source": []
  },
  {
   "cell_type": "code",
   "execution_count": 158,
   "id": "b0299e79-8549-44ce-bee3-d6a30a418585",
   "metadata": {},
   "outputs": [],
   "source": [
    "parcel_df.dropna(subset=['GEOID'],inplace=True)\n",
    "parcel_df['GEOID'] = parcel_df['GEOID'].astype(int)"
   ]
  },
  {
   "cell_type": "code",
   "execution_count": 159,
   "id": "552ccc44-fe58-43da-adba-12874e3fd538",
   "metadata": {},
   "outputs": [
    {
     "data": {
      "text/plain": [
       "Index(['OBJECTID', 'Join_Count', 'TARGET_FID', 'FOLIO', 'TYPE', 'PIN', 'DOR_C',\n",
       "       'OWNER', 'ADDR_1', 'ADDR_2', 'CITY', 'STATE', 'ZIP', 'COUNTRY', 'SUB',\n",
       "       'SITE_ADDR', 'SITE_CITY', 'SITE_ZIP', 'LEGAL1', 'LEGAL2', 'LEGAL3',\n",
       "       'LEGAL4', 'DBA', 'STRAP', 'tBEDS', 'tBATHS', 'tSTORIES', 'tUNITS',\n",
       "       'tBLDGS', 'TAXDIST', 'JUST', 'LAND', 'BLDG', 'EXF', 'ACT', 'EFF',\n",
       "       'HEAT_AR', 'ASD_VAL', 'TAX_VAL', 'MUNI', 'SD1', 'SD2', 'TIF', 'BASE',\n",
       "       'S_DATE', 'VI', 'S_AMT', 'ACREAGE', 'NBHC', 'Edit_dt', 'SLR_tag',\n",
       "       'SLR_1', 'SLR_2', 'SLR_3', 'SLR_Tag_8', 'SLR_BG', 'SLR_4', 'SLR5',\n",
       "       'SLR_6', 'SLR_7', 'STATEFP', 'COUNTYFP', 'TRACTCE', 'BLKGRPCE', 'GEOID',\n",
       "       'NAMELSAD', 'MTFCC', 'FUNCSTAT', 'ALAND', 'AWATER', 'INTPTLAT',\n",
       "       'INTPTLON', 'SLRtag', 'SLR8', 'SLR4_BG', 'SLR2BG', 'SLR3BG', 'SLR1BG',\n",
       "       'SLR5_BG', 'SLR6_BG', 'SLR7_BG', 'Shape_Length', 'Shape_Area'],\n",
       "      dtype='object')"
      ]
     },
     "execution_count": 159,
     "metadata": {},
     "output_type": "execute_result"
    }
   ],
   "source": [
    "parcel_df.columns"
   ]
  },
  {
   "cell_type": "code",
   "execution_count": 160,
   "id": "4a6504de-8272-43da-87eb-29cf2531612c",
   "metadata": {},
   "outputs": [],
   "source": [
    "#parcel_df[parcel_df['SLR_2']==1]['JUST']"
   ]
  },
  {
   "cell_type": "code",
   "execution_count": 161,
   "id": "8a9fd6c4-ef5f-4cb5-8776-779627866f8c",
   "metadata": {},
   "outputs": [],
   "source": [
    "#parcel_df[parcel_df['SLR5']==1]"
   ]
  },
  {
   "cell_type": "code",
   "execution_count": 162,
   "id": "9cfd0e5e-a213-47b1-b935-639b29fff5fa",
   "metadata": {},
   "outputs": [],
   "source": [
    "#DOR Codes identifying building type form property appraiser\n",
    "dor_codes = pd.read_excel('./_DOR_Code_List.xlsx')\n",
    "#Residential codes\n",
    "res_codes=[\"0000\",\"0006\",\"0010\",\"0020\",\"0030\",\n",
    "           \"0100\", \"0106\",\"0300\",\"0310\", \"0320\", \n",
    "           \"0330\", \"0340\", \"0340\",\"0396\", \"0397\",\n",
    "           \"0398\", \"0399\", \"0400\",\"0400\", \"0400\",\n",
    "           \"0500\", \"0700\",\"0800\",\n",
    "          ]\n",
    "#Mobile-home codes\n",
    "mh_codes = [\"0008\",'0200',\"0508\",]\n",
    "#Retirement homes\n",
    "retirement_codes = ['0610','0611','0620','0621', \n",
    "                    \"0630\", \"0631\", \"0640\", \"0641\",\n",
    "                    \"0650\", \"0660\", \"0670\", \"0680\"]\n",
    "#Commercial property codes\n",
    "com_codes = list(dor_codes.iloc[51:286,0])"
   ]
  },
  {
   "cell_type": "code",
   "execution_count": null,
   "id": "050bb5e7-bce6-4358-80cb-b35706cf2fe8",
   "metadata": {},
   "outputs": [],
   "source": []
  },
  {
   "cell_type": "code",
   "execution_count": 163,
   "id": "8e3c883a-8e77-473c-9439-09b254815891",
   "metadata": {},
   "outputs": [],
   "source": [
    "#Get the median home vale by tract from ACS 5 year data\n",
    "home_val = c.acs5dp.get(['NAME',\"GEO_ID\",'DP04_0080E','DP04_0089E'], geo={'for':\"tract\",'in':'state:12 county:057'}, year=2019)\n",
    "home_val = pd.DataFrame(home_val)\n",
    "home_val.columns = ['NAME', 'GEO_ID', 'OwnOc_HomeVal', 'MedHomeVal', 'state', 'county','tract']\n",
    "home_val = home_val[['OwnOc_HomeVal', 'MedHomeVal','tract']]\n",
    "home_val['tract'] = home_val['tract'].astype(float)"
   ]
  },
  {
   "cell_type": "code",
   "execution_count": 164,
   "id": "5a19e637-f497-4afa-8f48-80bdf067c572",
   "metadata": {},
   "outputs": [],
   "source": [
    "parcel_df = parcel_df.merge(home_val, how='left',left_on=\"TRACTCE\",right_on='tract')"
   ]
  },
  {
   "cell_type": "code",
   "execution_count": 165,
   "id": "d505411a-1a2b-4f15-b3b0-904d29b0d752",
   "metadata": {},
   "outputs": [],
   "source": [
    "# Calculate the percentage of parcels impacted by SLR in each tract for the 2ft and 5ft scenarios\n",
    "collect_list = []\n",
    "for geo_id in parcel_df['TRACTCE'].unique():\n",
    "    tempdf = parcel_df[parcel_df['TRACTCE']==geo_id]\n",
    "    two_ft_pct = tempdf['OBJECTID'][tempdf['SLR_2']==1].count()/tempdf['OBJECTID'].count()\n",
    "    five_ft_pct = tempdf['OBJECTID'][tempdf['SLR5']==1].count()/tempdf['OBJECTID'].count()\n",
    "    dic = {'tract':geo_id,'2_ft_pct':two_ft_pct,'5_ft_pct':five_ft_pct}\n",
    "    collect_list.append(dic)\n",
    "tract_impact = pd.DataFrame(collect_list)"
   ]
  },
  {
   "cell_type": "code",
   "execution_count": null,
   "id": "a4811b5a-93f6-4dfd-b4b3-777c1c95fede",
   "metadata": {},
   "outputs": [],
   "source": []
  },
  {
   "cell_type": "code",
   "execution_count": 166,
   "id": "8ea0319a-bea2-4462-85e5-3f93e347ee3c",
   "metadata": {},
   "outputs": [],
   "source": [
    "tract_impact = tract_impact.merge(home_val,how='left',on='tract')"
   ]
  },
  {
   "cell_type": "code",
   "execution_count": 167,
   "id": "92438e88-4765-42ab-b42f-60c2d4dbc1de",
   "metadata": {},
   "outputs": [],
   "source": [
    "proj = pd.read_csv(\"housing_unit_and_populaiton_projections.csv\")"
   ]
  },
  {
   "cell_type": "code",
   "execution_count": 168,
   "id": "562fe95d-afd5-4463-a696-076f5f43274e",
   "metadata": {},
   "outputs": [],
   "source": [
    "proj['tract'] = proj['GEO_ID'].astype(str).apply(lambda x: x[7:-1])\n",
    "proj['tract'] = proj['tract'].astype(int)"
   ]
  },
  {
   "cell_type": "code",
   "execution_count": 169,
   "id": "29bdec6e-4baf-4e84-9f0a-d3a506c0a6a6",
   "metadata": {},
   "outputs": [],
   "source": [
    "proj = proj.merge(tract_impact,how='left', on='tract')"
   ]
  },
  {
   "cell_type": "code",
   "execution_count": 170,
   "id": "6925b012-bf99-4de5-8882-bac7b95a3710",
   "metadata": {},
   "outputs": [],
   "source": [
    "#BRV Calculaiton for 2070 HU projections\n",
    "proj['2_ft_BRV'] = (proj['HU_2070']*proj['MedHomeVal'])*proj['2_ft_pct']\n",
    "proj['5_ft_BRV'] = (proj['HU_2070']*proj['MedHomeVal'])*proj['5_ft_pct']"
   ]
  },
  {
   "cell_type": "code",
   "execution_count": 171,
   "id": "c290fa50-a3b4-4547-a6ba-9732867fddc4",
   "metadata": {},
   "outputs": [
    {
     "data": {
      "text/plain": [
       "Index(['OBJECTID', 'Join_Count', 'TARGET_FID', 'FOLIO', 'TYPE', 'PIN', 'DOR_C',\n",
       "       'OWNER', 'ADDR_1', 'ADDR_2', 'CITY', 'STATE', 'ZIP', 'COUNTRY', 'SUB',\n",
       "       'SITE_ADDR', 'SITE_CITY', 'SITE_ZIP', 'LEGAL1', 'LEGAL2', 'LEGAL3',\n",
       "       'LEGAL4', 'DBA', 'STRAP', 'tBEDS', 'tBATHS', 'tSTORIES', 'tUNITS',\n",
       "       'tBLDGS', 'TAXDIST', 'JUST', 'LAND', 'BLDG', 'EXF', 'ACT', 'EFF',\n",
       "       'HEAT_AR', 'ASD_VAL', 'TAX_VAL', 'MUNI', 'SD1', 'SD2', 'TIF', 'BASE',\n",
       "       'S_DATE', 'VI', 'S_AMT', 'ACREAGE', 'NBHC', 'Edit_dt', 'SLR_tag',\n",
       "       'SLR_1', 'SLR_2', 'SLR_3', 'SLR_Tag_8', 'SLR_BG', 'SLR_4', 'SLR5',\n",
       "       'SLR_6', 'SLR_7', 'STATEFP', 'COUNTYFP', 'TRACTCE', 'BLKGRPCE', 'GEOID',\n",
       "       'NAMELSAD', 'MTFCC', 'FUNCSTAT', 'ALAND', 'AWATER', 'INTPTLAT',\n",
       "       'INTPTLON', 'SLRtag', 'SLR8', 'SLR4_BG', 'SLR2BG', 'SLR3BG', 'SLR1BG',\n",
       "       'SLR5_BG', 'SLR6_BG', 'SLR7_BG', 'Shape_Length', 'Shape_Area',\n",
       "       'OwnOc_HomeVal', 'MedHomeVal', 'tract'],\n",
       "      dtype='object')"
      ]
     },
     "execution_count": 171,
     "metadata": {},
     "output_type": "execute_result"
    }
   ],
   "source": [
    "parcel_df.columns"
   ]
  },
  {
   "cell_type": "code",
   "execution_count": 172,
   "id": "1ca14ac3-3982-4025-b427-b03a238186d4",
   "metadata": {},
   "outputs": [],
   "source": [
    "res_parcels = parcel_df[~(parcel_df[\"DOR_C\"].isin(res_codes)) | (parcel_df[\"DOR_C\"].isin(retirement_codes))]"
   ]
  },
  {
   "cell_type": "code",
   "execution_count": 173,
   "id": "a22c8583-e0ba-4457-8a99-11a349e775f9",
   "metadata": {},
   "outputs": [],
   "source": [
    "#Get the median \"Heated Area\" for each blockgroup and join to projection df\n",
    "med_heat_area = res_parcels.groupby('GEOID').median()['HEAT_AR']\n",
    "pd.DataFrame(med_heat_area).reset_index(inplace=True)\n",
    "proj = proj.merge(med_heat_area, how='left',left_on=\"GEO_ID\",right_on=\"GEOID\")"
   ]
  },
  {
   "cell_type": "code",
   "execution_count": 177,
   "id": "08a927dd-a7c9-412a-a76b-0e97171c18a1",
   "metadata": {},
   "outputs": [],
   "source": [
    "#Calculate disruption cost based on $0.88 standard value per sqft \n",
    "proj['disp_cost_2ft'] = (proj['HEAT_AR'] * proj['HU_2070'] *proj['2_ft_pct'] * .88)\n",
    "proj['disp_cost_5ft'] = (proj['HEAT_AR'] * proj['HU_2070'] *proj['5_ft_pct'] * .88) "
   ]
  },
  {
   "cell_type": "code",
   "execution_count": 202,
   "id": "b3508ead-297c-48b6-92d2-35febc5dd7f4",
   "metadata": {},
   "outputs": [],
   "source": [
    "#BRV Calculaiton for 2070 HU projections\n",
    "proj['2_ft_BRV_2020_HU'] = (proj['HU_2020']*proj['MedHomeVal'])*proj['2_ft_pct']\n",
    "proj['5_ft_BRV_2020_HU'] = (proj['HU_2020']*proj['MedHomeVal'])*proj['5_ft_pct']\n",
    "#Calculate disruption cost based on $0.88 standard value per sqft \n",
    "proj['disp_cost_2ft_2020_HU'] = (proj['HEAT_AR'] * proj['HU_2020'] *proj['2_ft_pct'] * .88)\n",
    "proj['disp_cost_5ft_2020_HU'] = (proj['HEAT_AR'] * proj['HU_2020'] *proj['5_ft_pct'] * .88) "
   ]
  },
  {
   "cell_type": "code",
   "execution_count": 194,
   "id": "bc639e16-fdaf-4fc8-b7f5-044de0163dca",
   "metadata": {},
   "outputs": [],
   "source": [
    "#Scenario filter\n",
    "slr2_bgs = list(bg_df[bg_df[\"SLR2BG\"]==1]['GEOID'])\n",
    "slr5_bgs = list(bg_df[bg_df[\"SLR5_BG\"]==1]['GEOID'])\n",
    "slr2_filt= [x for x in slr2_bgs]\n",
    "slr5_filt= [x for x in slr5_bgs]"
   ]
  },
  {
   "cell_type": "code",
   "execution_count": 199,
   "id": "2381c03c-6fc7-4b23-93e6-46c003761628",
   "metadata": {},
   "outputs": [],
   "source": [
    "proj['2ftTag'] = np.where(proj['GEO_ID'].isin(slr2_filt), 1,0)"
   ]
  },
  {
   "cell_type": "code",
   "execution_count": 200,
   "id": "1b14e2ee-4224-4d8c-a783-cc7afa681534",
   "metadata": {},
   "outputs": [],
   "source": [
    "proj['5ftTag'] = np.where(proj['GEO_ID'].isin(slr5_filt), 1,0)"
   ]
  },
  {
   "cell_type": "code",
   "execution_count": 203,
   "id": "3de30d6a-281b-4f74-81f6-38f8e66965b8",
   "metadata": {},
   "outputs": [],
   "source": [
    "proj.to_excel('projection_and_costs.xlsx')"
   ]
  },
  {
   "cell_type": "code",
   "execution_count": null,
   "id": "ff203c82-a1fc-481f-8905-77d9f0822a1e",
   "metadata": {},
   "outputs": [],
   "source": []
  }
 ],
 "metadata": {
  "kernelspec": {
   "display_name": "gis_projects",
   "language": "python",
   "name": "gis_projects"
  },
  "language_info": {
   "codemirror_mode": {
    "name": "ipython",
    "version": 3
   },
   "file_extension": ".py",
   "mimetype": "text/x-python",
   "name": "python",
   "nbconvert_exporter": "python",
   "pygments_lexer": "ipython3",
   "version": "3.7.6"
  }
 },
 "nbformat": 4,
 "nbformat_minor": 5
}
